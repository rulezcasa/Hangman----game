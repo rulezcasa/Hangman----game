{
 "cells": [
  {
   "cell_type": "markdown",
   "id": "2bd296c9",
   "metadata": {},
   "source": [
    "This project is my version of the popular hangman game. \n",
    "\n",
    "The following modules are used here:\n",
    "\n",
    "1. The random module is used to pickout random words from the preset list.\n",
    "2. The string module is used to handle strings and use string functions as per requirement.\n",
    "\n",
    "The following variable are used here:\n",
    "\n",
    "1. item -> is a list holding words.\n",
    "2. start -> is an integer that controls the repeatibility of the game.\n",
    "3. correct -> Keeps track of the correct words.\n",
    "4. wrong -> keeps track of the wrong words.\n",
    "5. random_item -> is the random word chosen.\n",
    "6. length_item -> is the length of the random word.\n",
    "7. word -> holds the blank spaces of the word.\n",
    "8. word_list -> is a list that dynamically updates as the user guesses.\n",
    "9. guess -> string variable that takes user input for the letter.\n",
    "10. score -> holds the total score earned by the user. \n"
   ]
  },
  {
   "cell_type": "code",
   "execution_count": 1,
   "id": "c6046e3c",
   "metadata": {},
   "outputs": [
    {
     "name": "stdout",
     "output_type": "stream",
     "text": [
      "Welcome to typebamboo - A computer based hangman game\n",
      "\n",
      "Instructions:\n",
      "\n",
      "1. The words are computer input/output devices\n",
      "2. +5 and -1 for every correct and wrong guess respectively\n",
      "type 1 to play 0 to exit 1\n"
     ]
    }
   ],
   "source": [
    "#Modules and initialization\n",
    "import random\n",
    "import string\n",
    "item=['computer','mouse','keyboard','monitor','printer','speaker','pendrive']\n",
    "print(\"Welcome to typebamboo - A computer based hangman game\\n\")\n",
    "print(\"Instructions:\\n\")\n",
    "print(\"1. The words are computer input/output devices\")\n",
    "print(\"2. +5 and -1 for every correct and wrong guess respectively\")\n",
    "score=0\n",
    "start=int(input(\"type 1 to play 0 to exit \"))"
   ]
  },
  {
   "cell_type": "code",
   "execution_count": 2,
   "id": "40ce934c",
   "metadata": {},
   "outputs": [
    {
     "name": "stdout",
     "output_type": "stream",
     "text": [
      "['_', '_', '_', '_', '_', '_', '_']\n",
      "start guessing!\n",
      "\n",
      "Guess:m\n",
      "incorrect\n",
      "Guess:p\n",
      "Correct\n",
      "['_', 'p', '_', '_', '_', '_', '_']\n",
      "Guess:s\n",
      "Correct\n",
      "['s', 'p', '_', '_', '_', '_', '_']\n",
      "Guess:k\n",
      "Correct\n",
      "['s', 'p', '_', '_', 'k', '_', '_']\n",
      "Guess:e\n",
      "Correct\n",
      "['s', 'p', 'e', '_', 'k', '_', '_']\n",
      "Guess:a\n",
      "Correct\n",
      "['s', 'p', 'e', 'a', 'k', '_', '_']\n",
      "Guess:r\n",
      "Correct\n",
      "['s', 'p', 'e', 'a', 'k', '_', 'r']\n",
      "Guess:e\n",
      "Correct\n",
      "['s', 'p', 'e', 'a', 'k', '_', 'r']\n",
      "you have guessed the word!\n",
      "\n",
      "speaker\n",
      "your score is:  34\n",
      "type 1 to play again or 0 to exit0\n"
     ]
    }
   ],
   "source": [
    "#Functional program\n",
    "while(start==1):\n",
    "    correct=0\n",
    "    wrong=0\n",
    "    random_item=random.choice(item)\n",
    "    length_item=len(random_item)\n",
    "    word=\"_\"*length_item\n",
    "    word_list=[]\n",
    "    for i in range(length_item):\n",
    "        word_list.append(word[i])\n",
    "    print(word_list)\n",
    "    print(\"start guessing!\\n\")\n",
    "    while(correct<length_item):    \n",
    "        guess=str(input(\"Guess:\"))\n",
    "        if(guess in random_item):\n",
    "            index=random_item.index(guess)\n",
    "            print(\"Correct\")\n",
    "            correct=correct+1\n",
    "            word_list[index]=guess\n",
    "            print(word_list)\n",
    "        else:\n",
    "            print(\"incorrect\")\n",
    "            wrong=wrong+1\n",
    "    print(\"you have guessed the word!\\n\")\n",
    "    print(random_item)\n",
    "    score=score+((correct*5)-(wrong))\n",
    "    print(\"your score is: \",score)\n",
    "    start=int(input(\"type 1 to play again or 0 to exit\"))"
   ]
  }
 ],
 "metadata": {
  "kernelspec": {
   "display_name": "Python 3 (ipykernel)",
   "language": "python",
   "name": "python3"
  },
  "language_info": {
   "codemirror_mode": {
    "name": "ipython",
    "version": 3
   },
   "file_extension": ".py",
   "mimetype": "text/x-python",
   "name": "python",
   "nbconvert_exporter": "python",
   "pygments_lexer": "ipython3",
   "version": "3.9.13"
  }
 },
 "nbformat": 4,
 "nbformat_minor": 5
}
